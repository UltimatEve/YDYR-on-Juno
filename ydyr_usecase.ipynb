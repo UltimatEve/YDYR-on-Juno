{
 "cells": [
  {
   "cell_type": "code",
   "execution_count": null,
   "metadata": {},
   "outputs": [],
   "source": [
    "# TODO User configurations\n",
    "#geo_json_file = 'data-1.json'\n",
    "#geom_column = 'LGA_MAIN11'\n",
    "#data_column = 'Tot_1941_1950'\n",
    "#src_geom = 'LGA_2011'\n",
    "#dst_geom = 'LGA_2016'\n",
    "\n",
    "# Please select a GeoJSON file from the JupyteLab workspace.\n",
    "geo_json_file = 'data574807371901850620.json'\n",
    "# Please select from the input file the geometry column.\n",
    "geom_column = 'LGA_MAIN11'\n",
    "# Please select from the data file the data column.\n",
    "data_column ='P_Vis_within_Aus_Tot'\n",
    "# Please select the 'from' geometry from a list of available conversions.\n",
    "src_geom = 'LGA_2011'\n",
    "# Please select the 'to' geometry from a list of available conversions.\n",
    "dst_geom = 'LGA_2016'"
   ]
  },
  {
   "cell_type": "code",
   "execution_count": null,
   "metadata": {},
   "outputs": [],
   "source": [
    "BASE_URL = 'https://ydyr.info/api/v1'"
   ]
  },
  {
   "cell_type": "code",
   "execution_count": null,
   "metadata": {},
   "outputs": [],
   "source": [
    "AUTH = ('<YDYR username>', '<YDYR password>')"
   ]
  },
  {
   "cell_type": "code",
   "execution_count": null,
   "metadata": {},
   "outputs": [],
   "source": [
    "# GeoJSON files directory\n",
    "GEO_JSON_PATH = 'data'"
   ]
  },
  {
   "cell_type": "code",
   "execution_count": null,
   "metadata": {},
   "outputs": [],
   "source": [
    "# Downloaded result file directory\n",
    "OUTPUT_PATH = 'results'"
   ]
  },
  {
   "cell_type": "code",
   "execution_count": null,
   "metadata": {},
   "outputs": [],
   "source": [
    "import json\n",
    "import time\n",
    "import requests\n",
    "import os\n",
    "import folium\n",
    "import pandas as pd"
   ]
  },
  {
   "cell_type": "code",
   "execution_count": null,
   "metadata": {},
   "outputs": [],
   "source": [
    "# post geo json data:\n",
    "input_file = '/'.join((GEO_JSON_PATH, geo_json_file))\n",
    "with open(input_file, 'r') as d:\n",
    "    post_data = json.load(d)"
   ]
  },
  {
   "cell_type": "code",
   "execution_count": null,
   "metadata": {},
   "outputs": [],
   "source": [
    "def get_side_data(geom_column):\n",
    "    year = int(geom_column.split('_')[-1])\n",
    "    side_data_year = 2011 if (abs(year - 2016) >= abs(year-2011)) else 2016\n",
    "    return \"BCP_\" + str(side_data_year)"
   ]
  },
  {
   "cell_type": "code",
   "execution_count": null,
   "metadata": {},
   "outputs": [],
   "source": [
    "# post parameters:\n",
    "post_parms = {\n",
    "    'geom_column': geom_column,\n",
    "    'data_column': data_column,\n",
    "    'src_geom': src_geom,\n",
    "    'dst_geom': dst_geom,\n",
    "    'side_data': get_side_data(src_geom), #TODO!!!\n",
    "    'averaged_counts': False # XXX TODO\n",
    "}"
   ]
  },
  {
   "cell_type": "code",
   "execution_count": null,
   "metadata": {},
   "outputs": [],
   "source": [
    "def get_disaggration(data, parms):\n",
    "    res = requests.post(\n",
    "        '/'.join((BASE_URL, 'disaggregate.geojson')),\n",
    "        auth=AUTH,\n",
    "        params=parms,\n",
    "        json=data)\n",
    "    assert res.status_code == 202, 'job failed to queue'\n",
    "    job_id = res.json()\n",
    "    print(\"Your submitted job id is\", job_id)\n",
    "    print()\n",
    "    \n",
    "    while res.status_code == 202:\n",
    "        time.sleep(2)\n",
    "        res = requests.get(\n",
    "            '/'.join((BASE_URL, 'status', job_id)),\n",
    "            auth=AUTH)\n",
    "    assert res.status_code == 200, 'job failed to finish'\n",
    "    print(\"Get the job status report:\", res.json()['report'])\n",
    "    \n",
    "    # result_id != job_id\n",
    "    result_id = res.json()['key']\n",
    "    res = requests.get(\n",
    "        '/'.join((BASE_URL, 'download', result_id)),\n",
    "        auth=AUTH,\n",
    "        params={'format': 'json'})\n",
    "    assert res.status_code == 200, 'failed to download result'\n",
    "    #print(\"Get downloaded data:\", res.json())\n",
    "    \n",
    "    if not os.path.exists(OUTPUT_PATH):\n",
    "        os.makedirs(OUTPUT_PATH)\n",
    "    output_file = '/'.join((OUTPUT_PATH, job_id+'.json'))\n",
    "    with open(output_file, 'w') as f:\n",
    "        json.dump(res.json(), f)\n",
    "    print(\"Done! Your job result is downloaded at\", output_file)\n",
    "    print()"
   ]
  },
  {
   "cell_type": "code",
   "execution_count": null,
   "metadata": {},
   "outputs": [],
   "source": [
    "def get_capability():\n",
    "    res = requests.get(\n",
    "        '/'.join((BASE_URL, 'capability')),\n",
    "        auth=AUTH,\n",
    "        params={'format': 'json'})\n",
    "    assert res.status_code == 200, 'capability request failed'\n",
    "    \n",
    "    if res.ok:\n",
    "        return(res.json())"
   ]
  },
  {
   "cell_type": "code",
   "execution_count": null,
   "metadata": {},
   "outputs": [],
   "source": [
    "data = {'id':[], data_column:[]}\n",
    "for feature in post_data.get('features'):\n",
    "    data[\"id\"].append(feature.get(\"id\"))\n",
    "    data[data_column].append(feature.get('properties').get(data_column))\n",
    "                    \n",
    "data_pd = pd.DataFrame.from_dict(data)\n",
    "print(data_pd[:10])"
   ]
  },
  {
   "cell_type": "code",
   "execution_count": null,
   "metadata": {},
   "outputs": [],
   "source": [
    "m = folium.Map(location=[-23.6980, 133.8807], zoom_start=4)\n",
    "\n",
    "folium.Choropleth(\n",
    "    geo_data=input_file,\n",
    "    name='choropleth',\n",
    "    data= data_pd,\n",
    "    columns=['id', data_column],\n",
    "    key_on='feature.id',\n",
    "    fill_color='YlGn',\n",
    "    fill_opacity=0.7,\n",
    "    line_opacity=0.2,\n",
    "    legend_name=data_column\n",
    ").add_to(m)\n",
    "\n",
    "folium.LayerControl().add_to(m)"
   ]
  },
  {
   "cell_type": "code",
   "execution_count": null,
   "metadata": {},
   "outputs": [],
   "source": [
    "print(\"Before Aggregation:\")\n",
    "m"
   ]
  },
  {
   "cell_type": "code",
   "execution_count": null,
   "metadata": {},
   "outputs": [],
   "source": [
    "get_capability()"
   ]
  },
  {
   "cell_type": "code",
   "execution_count": null,
   "metadata": {},
   "outputs": [],
   "source": [
    "get_disaggration(post_data, post_parms)"
   ]
  },
  {
   "cell_type": "code",
   "execution_count": null,
   "metadata": {},
   "outputs": [],
   "source": []
  }
 ],
 "metadata": {
  "kernelspec": {
   "display_name": "Python 3",
   "language": "python",
   "name": "python3"
  },
  "language_info": {
   "codemirror_mode": {
    "name": "ipython",
    "version": 3
   },
   "file_extension": ".py",
   "mimetype": "text/x-python",
   "name": "python",
   "nbconvert_exporter": "python",
   "pygments_lexer": "ipython3",
   "version": "3.7.6"
  }
 },
 "nbformat": 4,
 "nbformat_minor": 4
}
