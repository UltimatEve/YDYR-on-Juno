{
 "cells": [
  {
   "cell_type": "code",
   "execution_count": 1,
   "metadata": {},
   "outputs": [],
   "source": [
    "# User configurations\n",
    "#geo_json_file = 'data-1.json'\n",
    "#geom_column = 'LGA_MAIN11'\n",
    "#data_column = 'Tot_1941_1950'\n",
    "#src_geom = 'LGA_2011'\n",
    "#dst_geom = 'LGA_2016'\n",
    "\n",
    "# Please select a GeoJSON file from the JupyteLab workspace.\n",
    "geo_json_file = 'lga_abs_b23b.json'\n",
    "# Please select from the input file the geometry column.\n",
    "geom_column = 'LGA_MAIN11'\n",
    "# Please select from the data file the data column.\n",
    "data_column ='P_Vis_within_Aus_65_74'\n",
    "# Please select the 'from' geometry from a list of available conversions.\n",
    "src_geom = 'LGA_2011'\n",
    "# Please select the 'to' geometry from a list of available conversions.\n",
    "dst_geom = 'LGA_2016'"
   ]
  },
  {
   "cell_type": "code",
   "execution_count": 2,
   "metadata": {},
   "outputs": [],
   "source": [
    "BASE_URL = 'https://ydyr.info/api/v1'"
   ]
  },
  {
   "cell_type": "code",
   "execution_count": 3,
   "metadata": {},
   "outputs": [],
   "source": [
    "AUTH = ('<YDYR username>', '<YDYR password>')"
   ]
  },
  {
   "cell_type": "code",
   "execution_count": 4,
   "metadata": {},
   "outputs": [],
   "source": [
    "# GeoJSON files directory\n",
    "GEO_JSON_PATH = 'data'"
   ]
  },
  {
   "cell_type": "code",
   "execution_count": 5,
   "metadata": {},
   "outputs": [],
   "source": [
    "# Downloaded result file directory\n",
    "OUTPUT_PATH = 'results'"
   ]
  },
  {
   "cell_type": "code",
   "execution_count": 6,
   "metadata": {},
   "outputs": [],
   "source": [
    "import json\n",
    "import time\n",
    "import requests"
   ]
  },
  {
   "cell_type": "code",
   "execution_count": 7,
   "metadata": {},
   "outputs": [],
   "source": [
    "# post geo json data:\n",
    "input_file = '/'.join((GEO_JSON_PATH, geo_json_file))\n",
    "with open(input_file, 'r') as d:\n",
    "    post_data = json.load(d)"
   ]
  },
  {
   "cell_type": "code",
   "execution_count": 8,
   "metadata": {},
   "outputs": [],
   "source": [
    "def get_side_data(geom_column):\n",
    "    year = int(geom_column.split('_')[1])\n",
    "    side_data_year = 2011 if (abs(year - 2016) >= abs(year-2011)) else 2016\n",
    "    return \"BCP_\" + str(side_data_year)"
   ]
  },
  {
   "cell_type": "code",
   "execution_count": 9,
   "metadata": {},
   "outputs": [],
   "source": [
    "# post parameters:\n",
    "post_parms = {\n",
    "    'geom_column': geom_column,\n",
    "    'data_column': data_column,\n",
    "    'src_geom': src_geom,\n",
    "    'dst_geom': dst_geom,\n",
    "    'side_data': get_side_data(src_geom),\n",
    "    'averaged_counts': False # XXX TODO\n",
    "}"
   ]
  },
  {
   "cell_type": "code",
   "execution_count": 10,
   "metadata": {},
   "outputs": [],
   "source": [
    "def get_disaggration(data, parms):\n",
    "    res = requests.post(\n",
    "        '/'.join((BASE_URL, 'disaggregate.geojson')),\n",
    "        auth=AUTH,\n",
    "        params=parms,\n",
    "        json=data)\n",
    "    assert res.status_code == 202, 'job failed to queue'\n",
    "\n",
    "    job_id = res.json()\n",
    "    print(\"Your submitted job id is\", job_id)\n",
    "    print()\n",
    "    \n",
    "    while res.status_code == 202:\n",
    "        time.sleep(2)\n",
    "        res = requests.get(\n",
    "            '/'.join((BASE_URL, 'status', job_id)),\n",
    "            auth=AUTH)\n",
    "    assert res.status_code == 200, 'job failed to finish'\n",
    "\n",
    "    res = requests.get(\n",
    "        '/'.join((BASE_URL, 'download', res.json()['key'])),\n",
    "        auth=AUTH,\n",
    "        params={'format': 'json'})\n",
    "    assert res.status_code == 200, 'failed to download result'\n",
    "\n",
    "    #print(\"returned data:\", res.json())\n",
    "    \n",
    "    output_file = '/'.join((OUTPUT_PATH, job_id+'.json'))\n",
    "    with open(output_file, 'w') as f:\n",
    "        json.dump(res.json(), f)\n",
    "    print(\"Done! Your job result is downloaded at\", output_file)\n",
    "    print()"
   ]
  },
  {
   "cell_type": "code",
   "execution_count": 11,
   "metadata": {},
   "outputs": [
    {
     "name": "stdout",
     "output_type": "stream",
     "text": [
      "Your submitted job id is e5eca8fa\n",
      "\n",
      "Done! Your job result is downloaded at results/e5eca8fa.json\n",
      "\n"
     ]
    }
   ],
   "source": [
    "get_disaggration(post_data, post_parms)"
   ]
  },
  {
   "cell_type": "code",
   "execution_count": null,
   "metadata": {},
   "outputs": [],
   "source": []
  }
 ],
 "metadata": {
  "kernelspec": {
   "display_name": "Python 3",
   "language": "python",
   "name": "python3"
  },
  "language_info": {
   "codemirror_mode": {
    "name": "ipython",
    "version": 3
   },
   "file_extension": ".py",
   "mimetype": "text/x-python",
   "name": "python",
   "nbconvert_exporter": "python",
   "pygments_lexer": "ipython3",
   "version": "3.7.6"
  }
 },
 "nbformat": 4,
 "nbformat_minor": 4
}
